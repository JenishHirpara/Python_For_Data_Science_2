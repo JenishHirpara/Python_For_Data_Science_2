{
 "cells": [
  {
   "cell_type": "code",
   "execution_count": 1,
   "id": "98c4ca5d-f2e0-496c-80ce-66d54d4f42ca",
   "metadata": {},
   "outputs": [],
   "source": [
    "import numpy as np\n",
    "import pandas as pd\n",
    "import matplotlib.pyplot as plt\n",
    "import sklearn\n",
    "\n",
    "from matplotlib import rcParams\n",
    "\n",
    "from sklearn.linear_model import LinearRegression\n",
    "from sklearn.preprocessing import scale"
   ]
  },
  {
   "cell_type": "code",
   "execution_count": 2,
   "id": "aa48eeee-e100-4b26-af20-a42fd5416ba6",
   "metadata": {},
   "outputs": [],
   "source": [
    "%matplotlib inline\n",
    "rcParams['figure.figsize'] = 10,8"
   ]
  },
  {
   "cell_type": "code",
   "execution_count": 3,
   "id": "9f189aca-edd9-4bc1-939c-cd0d0bc6cbf0",
   "metadata": {},
   "outputs": [
    {
     "data": {
      "text/plain": [
       "array([[4.27905783],\n",
       "       [3.54256916],\n",
       "       [4.92218492],\n",
       "       [3.05163478],\n",
       "       [3.40796589],\n",
       "       [3.13657196],\n",
       "       [4.62950622],\n",
       "       [3.20012376],\n",
       "       [4.83261631]])"
      ]
     },
     "execution_count": 3,
     "metadata": {},
     "output_type": "execute_result"
    }
   ],
   "source": [
    "rooms = 2*np.random.rand(100,1)+3\n",
    "rooms[1:10]"
   ]
  },
  {
   "cell_type": "code",
   "execution_count": 4,
   "id": "da7c3dca-cf08-41d6-bf5f-4a5699faadee",
   "metadata": {},
   "outputs": [
    {
     "data": {
      "text/plain": [
       "array([[292.11595529],\n",
       "       [287.62764817],\n",
       "       [295.66678944],\n",
       "       [284.08857042],\n",
       "       [286.20867635],\n",
       "       [284.78713771],\n",
       "       [293.05214901],\n",
       "       [284.24612436],\n",
       "       [294.28824086]])"
      ]
     },
     "execution_count": 4,
     "metadata": {},
     "output_type": "execute_result"
    }
   ],
   "source": [
    "price = 265 + 6*rooms + abs(np.random.randn(100,1))\n",
    "price[1:10]"
   ]
  },
  {
   "cell_type": "code",
   "execution_count": 5,
   "id": "15adb3db-3ef2-4b37-8d23-0e49fb89ebc2",
   "metadata": {},
   "outputs": [
    {
     "data": {
      "image/png": "[encoded data removed]",
      "text/plain": [
       "<Figure size 720x576 with 1 Axes>"
      ]
     },
     "metadata": {
      "needs_background": "light"
     },
     "output_type": "display_data"
    }
   ],
   "source": [
    "plt.plot(rooms, price, 'r^')\n",
    "plt.xlabel('# of Rooms, 2019 Average')\n",
    "plt.ylabel('2019 Average Home, 1000s USD')\n",
    "plt.show()"
   ]
  },
  {
   "cell_type": "code",
   "execution_count": 6,
   "id": "5a10103e-f713-461f-9d67-1cc64c6f83f4",
   "metadata": {},
   "outputs": [
    {
     "name": "stdout",
     "output_type": "stream",
     "text": [
      "[266.71390251] [[5.77511442]]\n"
     ]
    }
   ],
   "source": [
    "X = rooms\n",
    "y = price\n",
    "\n",
    "LinReg = LinearRegression()\n",
    "LinReg.fit(X,y)\n",
    "print(LinReg.intercept_, LinReg.coef_)"
   ]
  },
  {
   "cell_type": "code",
   "execution_count": 8,
   "id": "b43808bc-4e96-4f67-ab3c-5b9db73f4c0d",
   "metadata": {},
   "outputs": [
    {
     "name": "stdout",
     "output_type": "stream",
     "text": [
      "0.9729322226515407\n"
     ]
    }
   ],
   "source": [
    "print(LinReg.score(X,y))"
   ]
  },
  {
   "cell_type": "code",
   "execution_count": null,
   "id": "810509f2-68b1-4e98-9203-705c47b6bc8e",
   "metadata": {},
   "outputs": [],
   "source": []
  }
 ],
 "metadata": {
  "kernelspec": {
   "display_name": "Python 3",
   "language": "python",
   "name": "python3"
  },
  "language_info": {
   "codemirror_mode": {
    "name": "ipython",
    "version": 3
   },
   "file_extension": ".py",
   "mimetype": "text/x-python",
   "name": "python",
   "nbconvert_exporter": "python",
   "pygments_lexer": "ipython3",
   "version": "3.8.8"
  }
 },
 "nbformat": 4,
 "nbformat_minor": 5
}
